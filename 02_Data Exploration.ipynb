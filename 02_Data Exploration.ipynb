{
 "cells": [
  {
   "cell_type": "markdown",
   "id": "73eee3eb",
   "metadata": {
    "toc": true
   },
   "source": [
    "<h1>Table of Contents<span class=\"tocSkip\"></span></h1>\n",
    "<div class=\"toc\"><ul class=\"toc-item\"><li><span><a href=\"#Numerical-Features\" data-toc-modified-id=\"Numerical-Features-1\"><span class=\"toc-item-num\">1&nbsp;&nbsp;</span>Numerical Features</a></span></li><li><span><a href=\"#Categorical-Features\" data-toc-modified-id=\"Categorical-Features-2\"><span class=\"toc-item-num\">2&nbsp;&nbsp;</span>Categorical Features</a></span></li><li><span><a href=\"#Bivariate-Analysis:-Popularity\" data-toc-modified-id=\"Bivariate-Analysis:-Popularity-3\"><span class=\"toc-item-num\">3&nbsp;&nbsp;</span>Bivariate Analysis: Popularity</a></span><ul class=\"toc-item\"><li><span><a href=\"#Acousticness:\" data-toc-modified-id=\"Acousticness:-3.1\"><span class=\"toc-item-num\">3.1&nbsp;&nbsp;</span>Acousticness:</a></span></li><li><span><a href=\"#Danceability:\" data-toc-modified-id=\"Danceability:-3.2\"><span class=\"toc-item-num\">3.2&nbsp;&nbsp;</span>Danceability:</a></span></li><li><span><a href=\"#Energy\" data-toc-modified-id=\"Energy-3.3\"><span class=\"toc-item-num\">3.3&nbsp;&nbsp;</span>Energy</a></span></li><li><span><a href=\"#Instrumentalness\" data-toc-modified-id=\"Instrumentalness-3.4\"><span class=\"toc-item-num\">3.4&nbsp;&nbsp;</span>Instrumentalness</a></span></li><li><span><a href=\"#Liveness:\" data-toc-modified-id=\"Liveness:-3.5\"><span class=\"toc-item-num\">3.5&nbsp;&nbsp;</span>Liveness:</a></span></li><li><span><a href=\"#Speechiness:\" data-toc-modified-id=\"Speechiness:-3.6\"><span class=\"toc-item-num\">3.6&nbsp;&nbsp;</span>Speechiness:</a></span></li><li><span><a href=\"#Valence:\" data-toc-modified-id=\"Valence:-3.7\"><span class=\"toc-item-num\">3.7&nbsp;&nbsp;</span>Valence:</a></span></li><li><span><a href=\"#Year\" data-toc-modified-id=\"Year-3.8\"><span class=\"toc-item-num\">3.8&nbsp;&nbsp;</span>Year</a></span></li></ul></li><li><span><a href=\"#Feature-Engineering\" data-toc-modified-id=\"Feature-Engineering-4\"><span class=\"toc-item-num\">4&nbsp;&nbsp;</span>Feature Engineering</a></span><ul class=\"toc-item\"><li><span><a href=\"#Binning-/-One-Hot-Encoding\" data-toc-modified-id=\"Binning-/-One-Hot-Encoding-4.1\"><span class=\"toc-item-num\">4.1&nbsp;&nbsp;</span>Binning / One Hot Encoding</a></span></li><li><span><a href=\"#Drop-Features\" data-toc-modified-id=\"Drop-Features-4.2\"><span class=\"toc-item-num\">4.2&nbsp;&nbsp;</span>Drop Features</a></span></li><li><span><a href=\"#Normalisation-of-Float-features\" data-toc-modified-id=\"Normalisation-of-Float-features-4.3\"><span class=\"toc-item-num\">4.3&nbsp;&nbsp;</span>Normalisation of Float features</a></span></li><li><span><a href=\"#Language\" data-toc-modified-id=\"Language-4.4\"><span class=\"toc-item-num\">4.4&nbsp;&nbsp;</span>Language</a></span></li><li><span><a href=\"#TF-IDF-Vectorization\" data-toc-modified-id=\"TF-IDF-Vectorization-4.5\"><span class=\"toc-item-num\">4.5&nbsp;&nbsp;</span>TF-IDF Vectorization</a></span></li><li><span><a href=\"#Word2Vec\" data-toc-modified-id=\"Word2Vec-4.6\"><span class=\"toc-item-num\">4.6&nbsp;&nbsp;</span>Word2Vec</a></span></li><li><span><a href=\"#TF-IDF-W2V\" data-toc-modified-id=\"TF-IDF-W2V-4.7\"><span class=\"toc-item-num\">4.7&nbsp;&nbsp;</span>TF-IDF W2V</a></span></li><li><span><a href=\"#Joining-Dataframes\" data-toc-modified-id=\"Joining-Dataframes-4.8\"><span class=\"toc-item-num\">4.8&nbsp;&nbsp;</span>Joining Dataframes</a></span></li></ul></li><li><span><a href=\"#Similarity-Scores\" data-toc-modified-id=\"Similarity-Scores-5\"><span class=\"toc-item-num\">5&nbsp;&nbsp;</span>Similarity Scores</a></span></li></ul></div>"
   ]
  },
  {
   "cell_type": "markdown",
   "id": "3e15b45a-a02e-4c42-af67-b72d86241954",
   "metadata": {},
   "source": [
    "* Replace Context column\n"
   ]
  },
  {
   "cell_type": "code",
   "execution_count": 4,
   "id": "daabe4cc-79bd-432f-875a-fbab76cd6f94",
   "metadata": {},
   "outputs": [
    {
     "ename": "ImportError",
     "evalue": "DLL load failed while importing _fblas: The specified module could not be found.",
     "output_type": "error",
     "traceback": [
      "\u001b[1;31m---------------------------------------------------------------------------\u001b[0m",
      "\u001b[1;31mImportError\u001b[0m                               Traceback (most recent call last)",
      "\u001b[1;32m<ipython-input-4-73155dadadbc>\u001b[0m in \u001b[0;36m<module>\u001b[1;34m\u001b[0m\n\u001b[0;32m      3\u001b[0m \u001b[1;32mimport\u001b[0m \u001b[0mnumpy\u001b[0m \u001b[1;32mas\u001b[0m \u001b[0mnp\u001b[0m\u001b[1;33m\u001b[0m\u001b[1;33m\u001b[0m\u001b[0m\n\u001b[0;32m      4\u001b[0m \u001b[1;32mimport\u001b[0m \u001b[0mmatplotlib\u001b[0m\u001b[1;33m.\u001b[0m\u001b[0mpyplot\u001b[0m \u001b[1;32mas\u001b[0m \u001b[0mplt\u001b[0m\u001b[1;33m\u001b[0m\u001b[1;33m\u001b[0m\u001b[0m\n\u001b[1;32m----> 5\u001b[1;33m \u001b[1;32mimport\u001b[0m \u001b[0mseaborn\u001b[0m \u001b[1;32mas\u001b[0m \u001b[0msns\u001b[0m\u001b[1;33m\u001b[0m\u001b[1;33m\u001b[0m\u001b[0m\n\u001b[0m\u001b[0;32m      6\u001b[0m \u001b[1;32mimport\u001b[0m \u001b[0mstring\u001b[0m\u001b[1;33m\u001b[0m\u001b[1;33m\u001b[0m\u001b[0m\n\u001b[0;32m      7\u001b[0m \u001b[1;32mimport\u001b[0m \u001b[0mre\u001b[0m\u001b[1;33m\u001b[0m\u001b[1;33m\u001b[0m\u001b[0m\n",
      "\u001b[1;32m~\\anaconda3\\lib\\site-packages\\seaborn\\__init__.py\u001b[0m in \u001b[0;36m<module>\u001b[1;34m\u001b[0m\n\u001b[0;32m      4\u001b[0m \u001b[1;32mfrom\u001b[0m \u001b[1;33m.\u001b[0m\u001b[0mpalettes\u001b[0m \u001b[1;32mimport\u001b[0m \u001b[1;33m*\u001b[0m  \u001b[1;31m# noqa: F401,F403\u001b[0m\u001b[1;33m\u001b[0m\u001b[1;33m\u001b[0m\u001b[0m\n\u001b[0;32m      5\u001b[0m \u001b[1;32mfrom\u001b[0m \u001b[1;33m.\u001b[0m\u001b[0mrelational\u001b[0m \u001b[1;32mimport\u001b[0m \u001b[1;33m*\u001b[0m  \u001b[1;31m# noqa: F401,F403\u001b[0m\u001b[1;33m\u001b[0m\u001b[1;33m\u001b[0m\u001b[0m\n\u001b[1;32m----> 6\u001b[1;33m \u001b[1;32mfrom\u001b[0m \u001b[1;33m.\u001b[0m\u001b[0mregression\u001b[0m \u001b[1;32mimport\u001b[0m \u001b[1;33m*\u001b[0m  \u001b[1;31m# noqa: F401,F403\u001b[0m\u001b[1;33m\u001b[0m\u001b[1;33m\u001b[0m\u001b[0m\n\u001b[0m\u001b[0;32m      7\u001b[0m \u001b[1;32mfrom\u001b[0m \u001b[1;33m.\u001b[0m\u001b[0mcategorical\u001b[0m \u001b[1;32mimport\u001b[0m \u001b[1;33m*\u001b[0m  \u001b[1;31m# noqa: F401,F403\u001b[0m\u001b[1;33m\u001b[0m\u001b[1;33m\u001b[0m\u001b[0m\n\u001b[0;32m      8\u001b[0m \u001b[1;32mfrom\u001b[0m \u001b[1;33m.\u001b[0m\u001b[0mdistributions\u001b[0m \u001b[1;32mimport\u001b[0m \u001b[1;33m*\u001b[0m  \u001b[1;31m# noqa: F401,F403\u001b[0m\u001b[1;33m\u001b[0m\u001b[1;33m\u001b[0m\u001b[0m\n",
      "\u001b[1;32m~\\anaconda3\\lib\\site-packages\\seaborn\\regression.py\u001b[0m in \u001b[0;36m<module>\u001b[1;34m\u001b[0m\n\u001b[0;32m      5\u001b[0m \u001b[1;32mimport\u001b[0m \u001b[0mnumpy\u001b[0m \u001b[1;32mas\u001b[0m \u001b[0mnp\u001b[0m\u001b[1;33m\u001b[0m\u001b[1;33m\u001b[0m\u001b[0m\n\u001b[0;32m      6\u001b[0m \u001b[1;32mimport\u001b[0m \u001b[0mpandas\u001b[0m \u001b[1;32mas\u001b[0m \u001b[0mpd\u001b[0m\u001b[1;33m\u001b[0m\u001b[1;33m\u001b[0m\u001b[0m\n\u001b[1;32m----> 7\u001b[1;33m \u001b[1;32mfrom\u001b[0m \u001b[0mscipy\u001b[0m\u001b[1;33m.\u001b[0m\u001b[0mspatial\u001b[0m \u001b[1;32mimport\u001b[0m \u001b[0mdistance\u001b[0m\u001b[1;33m\u001b[0m\u001b[1;33m\u001b[0m\u001b[0m\n\u001b[0m\u001b[0;32m      8\u001b[0m \u001b[1;32mimport\u001b[0m \u001b[0mmatplotlib\u001b[0m \u001b[1;32mas\u001b[0m \u001b[0mmpl\u001b[0m\u001b[1;33m\u001b[0m\u001b[1;33m\u001b[0m\u001b[0m\n\u001b[0;32m      9\u001b[0m \u001b[1;32mimport\u001b[0m \u001b[0mmatplotlib\u001b[0m\u001b[1;33m.\u001b[0m\u001b[0mpyplot\u001b[0m \u001b[1;32mas\u001b[0m \u001b[0mplt\u001b[0m\u001b[1;33m\u001b[0m\u001b[1;33m\u001b[0m\u001b[0m\n",
      "\u001b[1;32m~\\anaconda3\\lib\\site-packages\\scipy\\spatial\\distance.py\u001b[0m in \u001b[0;36m<module>\u001b[1;34m\u001b[0m\n\u001b[0;32m    121\u001b[0m \u001b[1;32mfrom\u001b[0m \u001b[1;33m.\u001b[0m \u001b[1;32mimport\u001b[0m \u001b[0m_distance_wrap\u001b[0m\u001b[1;33m\u001b[0m\u001b[1;33m\u001b[0m\u001b[0m\n\u001b[0;32m    122\u001b[0m \u001b[1;32mfrom\u001b[0m \u001b[1;33m.\u001b[0m \u001b[1;32mimport\u001b[0m \u001b[0m_hausdorff\u001b[0m\u001b[1;33m\u001b[0m\u001b[1;33m\u001b[0m\u001b[0m\n\u001b[1;32m--> 123\u001b[1;33m \u001b[1;32mfrom\u001b[0m \u001b[1;33m.\u001b[0m\u001b[1;33m.\u001b[0m\u001b[0mlinalg\u001b[0m \u001b[1;32mimport\u001b[0m \u001b[0mnorm\u001b[0m\u001b[1;33m\u001b[0m\u001b[1;33m\u001b[0m\u001b[0m\n\u001b[0m\u001b[0;32m    124\u001b[0m \u001b[1;32mfrom\u001b[0m \u001b[1;33m.\u001b[0m\u001b[1;33m.\u001b[0m\u001b[0mspecial\u001b[0m \u001b[1;32mimport\u001b[0m \u001b[0mrel_entr\u001b[0m\u001b[1;33m\u001b[0m\u001b[1;33m\u001b[0m\u001b[0m\n\u001b[0;32m    125\u001b[0m \u001b[1;33m\u001b[0m\u001b[0m\n",
      "\u001b[1;32m~\\anaconda3\\lib\\site-packages\\scipy\\linalg\\__init__.py\u001b[0m in \u001b[0;36m<module>\u001b[1;34m\u001b[0m\n\u001b[0;32m    193\u001b[0m \"\"\"  # noqa: E501\n\u001b[0;32m    194\u001b[0m \u001b[1;33m\u001b[0m\u001b[0m\n\u001b[1;32m--> 195\u001b[1;33m \u001b[1;32mfrom\u001b[0m \u001b[1;33m.\u001b[0m\u001b[0mmisc\u001b[0m \u001b[1;32mimport\u001b[0m \u001b[1;33m*\u001b[0m\u001b[1;33m\u001b[0m\u001b[1;33m\u001b[0m\u001b[0m\n\u001b[0m\u001b[0;32m    196\u001b[0m \u001b[1;32mfrom\u001b[0m \u001b[1;33m.\u001b[0m\u001b[0mbasic\u001b[0m \u001b[1;32mimport\u001b[0m \u001b[1;33m*\u001b[0m\u001b[1;33m\u001b[0m\u001b[1;33m\u001b[0m\u001b[0m\n\u001b[0;32m    197\u001b[0m \u001b[1;32mfrom\u001b[0m \u001b[1;33m.\u001b[0m\u001b[0mdecomp\u001b[0m \u001b[1;32mimport\u001b[0m \u001b[1;33m*\u001b[0m\u001b[1;33m\u001b[0m\u001b[1;33m\u001b[0m\u001b[0m\n",
      "\u001b[1;32m~\\anaconda3\\lib\\site-packages\\scipy\\linalg\\misc.py\u001b[0m in \u001b[0;36m<module>\u001b[1;34m\u001b[0m\n\u001b[0;32m      1\u001b[0m \u001b[1;32mimport\u001b[0m \u001b[0mnumpy\u001b[0m \u001b[1;32mas\u001b[0m \u001b[0mnp\u001b[0m\u001b[1;33m\u001b[0m\u001b[1;33m\u001b[0m\u001b[0m\n\u001b[0;32m      2\u001b[0m \u001b[1;32mfrom\u001b[0m \u001b[0mnumpy\u001b[0m\u001b[1;33m.\u001b[0m\u001b[0mlinalg\u001b[0m \u001b[1;32mimport\u001b[0m \u001b[0mLinAlgError\u001b[0m\u001b[1;33m\u001b[0m\u001b[1;33m\u001b[0m\u001b[0m\n\u001b[1;32m----> 3\u001b[1;33m \u001b[1;32mfrom\u001b[0m \u001b[1;33m.\u001b[0m\u001b[0mblas\u001b[0m \u001b[1;32mimport\u001b[0m \u001b[0mget_blas_funcs\u001b[0m\u001b[1;33m\u001b[0m\u001b[1;33m\u001b[0m\u001b[0m\n\u001b[0m\u001b[0;32m      4\u001b[0m \u001b[1;32mfrom\u001b[0m \u001b[1;33m.\u001b[0m\u001b[0mlapack\u001b[0m \u001b[1;32mimport\u001b[0m \u001b[0mget_lapack_funcs\u001b[0m\u001b[1;33m\u001b[0m\u001b[1;33m\u001b[0m\u001b[0m\n\u001b[0;32m      5\u001b[0m \u001b[1;33m\u001b[0m\u001b[0m\n",
      "\u001b[1;32m~\\anaconda3\\lib\\site-packages\\scipy\\linalg\\blas.py\u001b[0m in \u001b[0;36m<module>\u001b[1;34m\u001b[0m\n\u001b[0;32m    211\u001b[0m \u001b[1;32mimport\u001b[0m \u001b[0mfunctools\u001b[0m\u001b[1;33m\u001b[0m\u001b[1;33m\u001b[0m\u001b[0m\n\u001b[0;32m    212\u001b[0m \u001b[1;33m\u001b[0m\u001b[0m\n\u001b[1;32m--> 213\u001b[1;33m \u001b[1;32mfrom\u001b[0m \u001b[0mscipy\u001b[0m\u001b[1;33m.\u001b[0m\u001b[0mlinalg\u001b[0m \u001b[1;32mimport\u001b[0m \u001b[0m_fblas\u001b[0m\u001b[1;33m\u001b[0m\u001b[1;33m\u001b[0m\u001b[0m\n\u001b[0m\u001b[0;32m    214\u001b[0m \u001b[1;32mtry\u001b[0m\u001b[1;33m:\u001b[0m\u001b[1;33m\u001b[0m\u001b[1;33m\u001b[0m\u001b[0m\n\u001b[0;32m    215\u001b[0m     \u001b[1;32mfrom\u001b[0m \u001b[0mscipy\u001b[0m\u001b[1;33m.\u001b[0m\u001b[0mlinalg\u001b[0m \u001b[1;32mimport\u001b[0m \u001b[0m_cblas\u001b[0m\u001b[1;33m\u001b[0m\u001b[1;33m\u001b[0m\u001b[0m\n",
      "\u001b[1;31mImportError\u001b[0m: DLL load failed while importing _fblas: The specified module could not be found."
     ]
    }
   ],
   "source": [
    "# import package\n",
    "import pandas as pd\n",
    "import numpy as np\n",
    "import matplotlib.pyplot as plt\n",
    "import seaborn as sns\n",
    "import string\n",
    "import re\n",
    "import nltk\n",
    "import spacy\n",
    "from sklearn.preprocessing import MinMaxScaler\n",
    "from sklearn.metrics.pairwise import cosine_similarity\n",
    "\n",
    "%matplotlib inline\n",
    "%config InlineBackend.figure_format = 'retina' # Render high resolution images\n",
    "\n",
    "nlp = spacy.load('en_core_web_sm')\n",
    "\n",
    "pd.set_option('display.max_colwidth', 500)\n",
    "pd.set_option('display.max_columns', None)\n",
    "pd.set_option('display.max_rows', 100) # adjust number of rows visible \n"
   ]
  },
  {
   "cell_type": "code",
   "execution_count": 2,
   "id": "b3cce63e",
   "metadata": {},
   "outputs": [
    {
     "name": "stdout",
     "output_type": "stream",
     "text": [
      "Requirement already satisfied: scipy in c:\\users\\user\\anaconda3\\lib\\site-packages (1.4.1)\n",
      "Collecting scipy\n",
      "  Downloading scipy-1.7.1-cp38-cp38-win_amd64.whl (33.7 MB)\n",
      "Requirement already satisfied: numpy<1.23.0,>=1.16.5 in c:\\users\\user\\anaconda3\\lib\\site-packages (from scipy) (1.20.1)\n",
      "Installing collected packages: scipy\n",
      "  Attempting uninstall: scipy\n",
      "    Found existing installation: scipy 1.4.1\n",
      "    Uninstalling scipy-1.4.1:\n",
      "      Successfully uninstalled scipy-1.4.1\n"
     ]
    },
    {
     "name": "stderr",
     "output_type": "stream",
     "text": [
      "ERROR: Could not install packages due to an OSError: [WinError 5] Access is denied: 'C:\\\\Users\\\\User\\\\anaconda3\\\\Lib\\\\site-packages\\\\scipy\\\\~libs\\\\libansari.R6EA3HQP5KZ6TAXU4Y4ZVTRPT7UVA53Z.gfortran-win_amd64.dll'\n",
      "Consider using the `--user` option or check the permissions.\n",
      "\n"
     ]
    }
   ],
   "source": [
    "!pip install -U scipy"
   ]
  },
  {
   "cell_type": "code",
   "execution_count": null,
   "id": "f8b23e64-5ef8-476d-a385-496ccca2e628",
   "metadata": {},
   "outputs": [],
   "source": [
    "raw = pd.read_csv('data/cleaned_data.csv')\n",
    "raw = raw[raw['artist_genre'].notnull()].reset_index()\n",
    "print(raw.info())\n",
    "raw.head()"
   ]
  },
  {
   "cell_type": "code",
   "execution_count": null,
   "id": "0e21fc81-0efc-43b3-a3cf-948e1eadf6bb",
   "metadata": {
    "scrolled": true,
    "tags": []
   },
   "outputs": [],
   "source": [
    "# Data Cleaning for context column\n",
    "def prep_text(text:str):\n",
    "    text = re.sub('nan', \"\", text)\n",
    "    text = re.sub('a cap', 'acap', text)\n",
    "    text = re.sub('\\sn\\s', ' and ', text)\n",
    "    text = re.sub(' n ', ' and ', text)\n",
    "    text = re.sub(\"'n'\", 'and', text)\n",
    "    text = re.sub(r'[^\\w\\s]', '', text.lower())\n",
    "    return text \n",
    "\n",
    "raw['context'] = raw['context'].map(prep_text) \n",
    "\n",
    "#Data Cleaning for artist_Genre\n",
    "def prep_text(text:str):\n",
    "    if isinstance(text, str):\n",
    "        text = ' '.join(text.split(',')).strip()\n",
    "        text = re.sub('a cap', 'acap', text)\n",
    "        text = re.sub('hip hop', 'hiphop', text)\n",
    "        text = re.sub('bomba y plena', 'bomba-y-plena', text)\n",
    "        text = re.sub('p funk', 'pfunk', text)\n",
    "        text = re.sub('g funk', 'gfunk', text)\n",
    "        text = re.sub(\"'s\", '', text)\n",
    "        text = re.sub(\"alt z\", 'altz', text)\n",
    "        text = re.sub('album ', '', text)\n",
    "        text = re.sub(\"d'a\", 'da', text)\n",
    "        text = re.sub('r&b', 'rnb', text) \n",
    "        text = re.sub(\"'n'\", 'and', text)\n",
    "        text = re.sub('\\s\\d', '', text) \n",
    "        text = re.sub('-', '', text) \n",
    "        text = re.sub('\\s+', \" \", text.strip(string.punctuation))\n",
    "        text = re.sub(r'[^\\w\\s]', '', text)\n",
    "    return text \n",
    "\n",
    "raw['genre'] = raw['artist_genre'].map(prep_text)\n",
    "raw['context'] = raw['genre'] + \" \" + raw['context']\n",
    "raw['context'] = raw['context'].str.strip().str.replace('\\s+', \" \", regex=True)\n",
    "# raw['context'] = raw['context'].apply(lambda x: ' '.join(list(set(x.split(\" \")))) if isinstance(x, str) else \"\")\n",
    "raw['context'] = raw['context'].apply(lambda x: ' '.join(list(x.split(\" \"))) if isinstance(x, str) else \"\")\n",
    "\n",
    "\n",
    "#raw['context'] = np.where((raw['artist_genre'].notnull()) & (raw['context'] == \"\"), raw['artist_genre'], raw['context'])\n",
    "#raw[raw['context'].notnull()].sort_values('context').head(20)\n",
    "raw.head()"
   ]
  },
  {
   "cell_type": "code",
   "execution_count": null,
   "id": "e82ab071-71c3-4105-a962-da3359895ff2",
   "metadata": {
    "scrolled": true,
    "tags": []
   },
   "outputs": [],
   "source": [
    "check_df = raw[['artist_name','artist_genre','genre','context']]\n",
    "#sorted(check_df[check_df['artist_genre'].isnull()]['artist_name'].unique().tolist())\n",
    "#np.sort(check_df['context'].unique()).tolist()\n",
    "#check_df[check_df['context'] == \"metal roll hard and n black alternative death doom rock swedish\"]\n",
    "check_df.loc[47246]"
   ]
  },
  {
   "cell_type": "code",
   "execution_count": null,
   "id": "f448ff41-b244-4d7e-9c73-28c36b55dca2",
   "metadata": {},
   "outputs": [],
   "source": [
    "df = raw.copy()\n",
    "\n",
    "# Unique values for each column\n",
    "for item in df.drop(['id'], axis='columns').columns:\n",
    "    print (item, \": \", df[item].nunique(),\"values\")\n",
    "    print (raw[item].unique(), \"\\n\")"
   ]
  },
  {
   "cell_type": "code",
   "execution_count": null,
   "id": "7425cb84-9fbd-4a18-adb9-42a0ff628117",
   "metadata": {},
   "outputs": [],
   "source": [
    "audio_cols = ['acousticness', 'danceability', 'energy', 'instrumentalness', 'liveness', 'loudness', 'valence']\n",
    "song_cols = ['duration_ms', 'explicit', 'key', 'mode', 'tempo', 'num_artist', 'popularity']\n",
    "text_cols = ['name', 'artist', 'genre']\n"
   ]
  },
  {
   "cell_type": "code",
   "execution_count": null,
   "id": "9b2042e0-1d24-45c1-9530-f7e5cd05f97a",
   "metadata": {},
   "outputs": [],
   "source": [
    "num_df = df.select_dtypes(include=np.number)\n",
    "cat_df = df.select_dtypes(exclude=np.number)"
   ]
  },
  {
   "cell_type": "markdown",
   "id": "06f53281-e0ec-4534-af6e-8617d089b598",
   "metadata": {
    "heading_collapsed": "true",
    "tags": []
   },
   "source": [
    "## Numerical Features"
   ]
  },
  {
   "cell_type": "code",
   "execution_count": null,
   "id": "e12a79cd-c0f9-4db9-830e-664faaa98eb0",
   "metadata": {},
   "outputs": [],
   "source": []
  },
  {
   "cell_type": "code",
   "execution_count": null,
   "id": "fa1951ae-1902-44d3-bd46-8f6609b2d7f6",
   "metadata": {},
   "outputs": [],
   "source": [
    "# Plotting distribution for ALL continuous variables\n",
    "f = pd.melt(num_df, value_vars = np.sort(num_df.columns).tolist())\n",
    "g = sns.FacetGrid(data = f, col='variable', col_wrap=4, sharex = False, sharey = False, aspect=2)\n",
    "g = g.map(sns.histplot, 'value', kde=True, bins=100)"
   ]
  },
  {
   "cell_type": "code",
   "execution_count": null,
   "id": "7a239f3c-7303-4b84-9f04-4b217a4f8ad4",
   "metadata": {},
   "outputs": [],
   "source": [
    "num_df.describe()"
   ]
  },
  {
   "cell_type": "markdown",
   "id": "200fe07b-bfd0-4232-95bc-ff7a8068067e",
   "metadata": {},
   "source": [
    "Observations:\n",
    "* What's with the two peaks at the ends for acousticness?\n",
    "* Duration ms mean is around 1 mins? That's a little short\n",
    "* Starting around 1950, we have constantly 2000 songs for each year."
   ]
  },
  {
   "cell_type": "code",
   "execution_count": null,
   "id": "d9d4e631-0171-4b3a-9027-05da946be38d",
   "metadata": {
    "tags": []
   },
   "outputs": [],
   "source": [
    "# # Plot histogram for ONE continous variables\n",
    "# _ = num_df['instrumentalness'].hist(bins=80, figsize=( 10, 6))\n",
    "# _.set(ylabel='Number of States',\n",
    "#       xlabel='ACT Participation rate (%)',\n",
    "#       title ='Distribution of ACT Participation rates')\n",
    "# display(df[df['instrumentalness'] > 0.7].sort_values('instrumentalness').head(100))"
   ]
  },
  {
   "cell_type": "code",
   "execution_count": null,
   "id": "8c36b07b-4891-4a4a-a2ae-08a6e4c9b976",
   "metadata": {},
   "outputs": [],
   "source": [
    "# Heatmap\n",
    "\n",
    "# Plotting heatmap\n",
    "fig, ax = plt.subplots(figsize=(14, 14))\n",
    "\n",
    "#Get correlation figures\n",
    "corr = num_df.corr()\n",
    "\n",
    "# masking to remove duplicated half\n",
    "mask = np.triu(np.ones_like(corr, dtype=bool))\n",
    "\n",
    "# select color palette\n",
    "cmap = sns.diverging_palette(220, 10, as_cmap = True)\n",
    "\n",
    "# plot heatmap\n",
    "g = sns.heatmap(corr, mask=mask, cmap=cmap, vmax=1, center=0, annot=True, fmt='.2f',square=True, linewidths=.5, cbar_kws={\"shrink\": .5})"
   ]
  },
  {
   "cell_type": "markdown",
   "id": "8166f0f0-2751-414b-a737-ab13eb61d1dd",
   "metadata": {},
   "source": [
    "* The high correlation between popularity and year is particular of interest. "
   ]
  },
  {
   "cell_type": "code",
   "execution_count": null,
   "id": "83e1dda0-4e4d-418e-8353-2ff50aa59410",
   "metadata": {
    "tags": []
   },
   "outputs": [],
   "source": [
    "# Plotting pairplot to check for correlation\n",
    "#g = sns.pairplot(num_df,height=4) "
   ]
  },
  {
   "cell_type": "markdown",
   "id": "ff55f6b3-9a73-4c0e-9340-5dfb583c0fc2",
   "metadata": {
    "heading_collapsed": "true",
    "tags": []
   },
   "source": [
    "## Categorical Features"
   ]
  },
  {
   "cell_type": "code",
   "execution_count": null,
   "id": "52b68b36-0a76-4c51-b6b9-2678a46dde3b",
   "metadata": {},
   "outputs": [],
   "source": [
    "cat_df.columns"
   ]
  },
  {
   "cell_type": "code",
   "execution_count": null,
   "id": "fbcb371f-6f32-410f-ae14-fe03b8ba277f",
   "metadata": {
    "tags": []
   },
   "outputs": [],
   "source": [
    "def top_20(col):\n",
    "    # Distribution Table  for 1 category feature\n",
    "    counts = cat_df[col].value_counts(dropna=False)\n",
    "    pct = cat_df[col].value_counts(dropna=False, normalize=True).mul(100).round(1).astype(str) + '%'\n",
    "    print(\"\\nFeature: {}\".format(col))\n",
    "\n",
    "    stats_df = pd.DataFrame({'counts': counts, 'Percent': pct})\n",
    "    #display(stats_df.head())\n",
    "    display(stats_df.sort_values('counts', ascending=False).head(20))"
   ]
  },
  {
   "cell_type": "code",
   "execution_count": null,
   "id": "e3aa20c5-e4f5-463d-a808-0c292e3e1a98",
   "metadata": {},
   "outputs": [],
   "source": [
    "top_20('artist_name')"
   ]
  },
  {
   "cell_type": "code",
   "execution_count": null,
   "id": "9c8ffdef-eb59-4891-9757-85c70c9d3331",
   "metadata": {},
   "outputs": [],
   "source": [
    "df[df['artist_name'] ==  'Elvis Presley']"
   ]
  },
  {
   "cell_type": "code",
   "execution_count": null,
   "id": "68938b79-556d-4d17-8b6a-47308a65423d",
   "metadata": {},
   "outputs": [],
   "source": [
    "top_20('artist_genre')"
   ]
  },
  {
   "cell_type": "code",
   "execution_count": null,
   "id": "997d40a2-56f6-40dd-868f-a674a4c1d894",
   "metadata": {},
   "outputs": [],
   "source": [
    "top_20('name')"
   ]
  },
  {
   "cell_type": "code",
   "execution_count": null,
   "id": "ccc8a22d-f0ed-4d58-bc41-91f8a3c25a8d",
   "metadata": {},
   "outputs": [],
   "source": [
    "top_20('release_date')"
   ]
  },
  {
   "cell_type": "markdown",
   "id": "25b157b8-30a9-4eea-ae9e-ce12bcc79e76",
   "metadata": {
    "heading_collapsed": "true",
    "tags": []
   },
   "source": [
    "## Bivariate Analysis: Popularity"
   ]
  },
  {
   "cell_type": "markdown",
   "id": "05b0845c-f6f2-408c-9ec8-2fd83a7b046a",
   "metadata": {
    "tags": []
   },
   "source": [
    "### Acousticness: \n",
    "* A confidence measure from 0.0 to 1.0 of whether the track is acoustic. 1.0 represents high confidence the track is acoustic.\n",
    "* There seem to be a trend happening in the 1st & 4th quartile. Here, songs with low acousticness seem to do better with popularity\n"
   ]
  },
  {
   "cell_type": "code",
   "execution_count": null,
   "id": "1c3c69e5-7d9a-430d-ad7c-6162a286f7d1",
   "metadata": {
    "tags": []
   },
   "outputs": [],
   "source": [
    "def vs_popularity_plot(col_name:str):\n",
    "    g = sns.catplot(kind='box', data=df, x='popularity', y=col_name, height=5, aspect=5, color='slategrey')\n",
    "    \n",
    "def vs_popularity_peek(col_name:str):    \n",
    "    test_df = df[df['popularity'] == 84].sort_values(col_name)\n",
    "    print(test_df.shape)\n",
    "    display(test_df.head(10))\n",
    "    display(test_df.tail(10))\n",
    "\n",
    "vs_popularity_plot('acousticness')\n",
    "vs_popularity_peek('acousticness')"
   ]
  },
  {
   "cell_type": "markdown",
   "id": "58b95af1-bbc2-43f0-bb42-ba52dd7e8126",
   "metadata": {
    "tags": []
   },
   "source": [
    "### Danceability: \n",
    "* Danceability describes how suitable a track is for dancing based on a combination of musical elements including tempo, rhythm stability, beat strength, and overall regularity. The value ranges from 0 to 1. Higher the value more suitable the song is for dancing.\n",
    "* Especially in the 4th quartile, popular songs have high tendency to have high danceability"
   ]
  },
  {
   "cell_type": "code",
   "execution_count": null,
   "id": "3e9c4e85-e0ed-4241-804c-a1445bdaf5ef",
   "metadata": {
    "tags": []
   },
   "outputs": [],
   "source": [
    "col = \"danceability\"\n",
    "vs_popularity_plot(col)\n",
    "vs_popularity_peek(col)"
   ]
  },
  {
   "cell_type": "markdown",
   "id": "df29af4f-6b22-4ef1-9e0e-b92ce31fd7db",
   "metadata": {
    "tags": []
   },
   "source": [
    "### Energy \n",
    "* Energy is a measure from 0.0 to 1.0 and represents a perceptual measure of intensity and activity. Typically, energetic tracks feel fast, loud, and noisy. Higher the value more energetic the song. \n",
    "* Especially in the 4th quartile, the best spot for popularity seems to be around 0.7\n",
    "* On the unpopular end, high energy songs seems to fare better.\n",
    "* Generally, higher the energy, the more popular the song"
   ]
  },
  {
   "cell_type": "code",
   "execution_count": null,
   "id": "555481c2-64cd-4411-aa5b-06390c6ec41b",
   "metadata": {
    "tags": []
   },
   "outputs": [],
   "source": [
    "col = \"energy\"\n",
    "vs_popularity_plot(col)\n",
    "vs_popularity_peek(col)"
   ]
  },
  {
   "cell_type": "markdown",
   "id": "ff4e2b2b-f85e-4696-9080-9a9ef1b5f290",
   "metadata": {
    "tags": []
   },
   "source": [
    "### Instrumentalness\n",
    "* Very clear preferences for low instrumentalness\n",
    "* Could be due to having a pretty sizeable number of songs having low instrumentalness to begin with (songs with zero instrumentalness make up 27% of the songs!)"
   ]
  },
  {
   "cell_type": "code",
   "execution_count": null,
   "id": "a99ac56b-6f84-48d1-91a1-580f8ca57009",
   "metadata": {
    "tags": []
   },
   "outputs": [],
   "source": [
    "col = \"instrumentalness\"\n",
    "vs_popularity_plot(col)\n",
    "vs_popularity_peek(col)"
   ]
  },
  {
   "cell_type": "code",
   "execution_count": null,
   "id": "8578000f-3907-427b-a6da-51aef4566272",
   "metadata": {
    "tags": []
   },
   "outputs": [],
   "source": [
    "# Plot histogram for ONE continous variables\n",
    "_ = num_df['instrumentalness'].hist(bins=100, figsize=( 10, 6))\n",
    "_.set(ylabel='Count',\n",
    "      xlabel='Instrumentalness',\n",
    "      title ='Distribution of Instrumentalness')"
   ]
  },
  {
   "cell_type": "code",
   "execution_count": null,
   "id": "97c6f686-f8c5-4c38-b927-92c032a62349",
   "metadata": {
    "tags": []
   },
   "outputs": [],
   "source": [
    "print('Percentage of songs with zero instrumentalness: {}'.format(num_df[num_df['instrumentalness'] == 0].shape[0] / num_df.shape[0]))"
   ]
  },
  {
   "cell_type": "markdown",
   "id": "f0ca24d8-55d5-4a8f-9786-b0a1e74b3c8e",
   "metadata": {
    "tags": []
   },
   "source": [
    "### Liveness: \n",
    "* Detects the presence of an audience in the recording. Higher liveness values represent an increased probability that the track was performed live. A value above 0.8 provides a strong likelihood that the track is live.\n",
    "* Looking at the popular end, the best spot for popularity seems to be around 0.1\n",
    "* On the unpopular end, high energy songs seems to fare better."
   ]
  },
  {
   "cell_type": "code",
   "execution_count": null,
   "id": "8834973f-6d9a-4935-9ad5-32d66fc8c56a",
   "metadata": {
    "tags": []
   },
   "outputs": [],
   "source": [
    "col = \"liveness\"\n",
    "vs_popularity_plot(col)\n",
    "vs_popularity_peek(col)"
   ]
  },
  {
   "cell_type": "markdown",
   "id": "648e10bf-9fe9-48b8-9036-976925f36319",
   "metadata": {
    "tags": []
   },
   "source": [
    "### Speechiness: \n",
    "* Speechiness detects the presence of spoken words in a track. The more exclusively speech-like the recording (e.g. talk show, audiobook, poetry), the closer to 1.0 the attribute value. \n",
    "* Values above 0.66 describe tracks that are probably made entirely of spoken words. \n",
    "* Values between 0.33 and 0.66 describe tracks that may contain both music and speech, either in sections or layered, including such cases as rap music. \n",
    "* Values below 0.33 most likely represent music and other non-speech-like tracks.\n",
    "* Not surprisingly, general preference for songs is to have low speechiness."
   ]
  },
  {
   "cell_type": "code",
   "execution_count": null,
   "id": "d5001f64-f0be-45a0-b2b1-a1e72897d845",
   "metadata": {
    "tags": []
   },
   "outputs": [],
   "source": [
    "col = \"speechiness\"\n",
    "vs_popularity_plot(col)\n",
    "vs_popularity_peek(col)"
   ]
  },
  {
   "cell_type": "markdown",
   "id": "201fd8b2-95e8-4259-84d2-8ce293bc42e6",
   "metadata": {
    "tags": []
   },
   "source": [
    "### Valence: \n",
    "* A measure from 0.0 to 1.0 describing the musical positiveness conveyed by a track. \n",
    "* Tracks with high valence sound more positive (e.g. happy, cheerful, euphoric), while tracks with low valence sound more negative (e.g. sad, depressed, angry).\n",
    "* Generally, ??"
   ]
  },
  {
   "cell_type": "code",
   "execution_count": null,
   "id": "d070faf0-d66a-4e76-96dd-c16646b49f9e",
   "metadata": {
    "tags": []
   },
   "outputs": [],
   "source": [
    "col = \"valence\"\n",
    "vs_popularity_plot(col)\n",
    "vs_popularity_peek(col)"
   ]
  },
  {
   "cell_type": "markdown",
   "id": "d7e3a460-fef6-4009-bd92-3e7573cf8b56",
   "metadata": {
    "tags": []
   },
   "source": [
    "### Year"
   ]
  },
  {
   "cell_type": "code",
   "execution_count": null,
   "id": "480ea317-74b6-4e68-b723-2daf83b7333c",
   "metadata": {},
   "outputs": [],
   "source": [
    "col = \"year\"\n",
    "fig, ax = plt.subplots(figsize=(20, 6))\n",
    "g = sns.scatterplot( data=df, y='popularity', x=col, color='slategrey', alpha=0.2, ax=ax)\n",
    "vs_popularity_peek(col)"
   ]
  },
  {
   "cell_type": "markdown",
   "id": "72992154-66af-41a8-99ce-f119241c68d4",
   "metadata": {},
   "source": [
    "Note:\n",
    "* Making recommendations can lead to different outcomes based on different preferences on different factors\n",
    "* For e.g. 'I Want You Back - The Jackson 5' could lead to different playlists: Michael Jackson, 70s Pop, Upbeat \n",
    "* Different decade has a different sound i.e. bebop in the 30s will sound different from the bebop now\n",
    "* Artists can be view as a sub-genre of sorts, capturing the personal sound of the artists. Context of artists are define by the music they play\n",
    "* Songs with similar audio features could techically belong to different genres. Hence, genre will be an important feature in making recommendations\n",
    "* Live Performance vs Recorded / Acoustic vs Electronic\n",
    "* Also need a feature that assigns weights to reflect changing tastes?"
   ]
  },
  {
   "cell_type": "markdown",
   "id": "d33f2efd-2738-4b75-896b-59c9e9f4d193",
   "metadata": {
    "tags": []
   },
   "source": [
    "## Feature Engineering"
   ]
  },
  {
   "cell_type": "code",
   "execution_count": null,
   "id": "39427faf-539e-4113-92b0-62c4723797df",
   "metadata": {},
   "outputs": [],
   "source": [
    "df.columns"
   ]
  },
  {
   "cell_type": "markdown",
   "id": "f1938de0-f333-4fb7-9c7f-e57f53dafff6",
   "metadata": {
    "heading_collapsed": "true",
    "tags": []
   },
   "source": [
    "### Binning / One Hot Encoding"
   ]
  },
  {
   "cell_type": "code",
   "execution_count": null,
   "id": "053ace09-3f85-42e8-be9b-14fb65d7a619",
   "metadata": {},
   "outputs": [],
   "source": [
    "# Popularity: minor differences are indistinguishable but binning the data will make the data easier to handle\n",
    "# Year: While songs in different decades might sound completely different, songs released in the same period should have very similar sound.\n",
    "\n",
    "#df['pop_score'] = df['popularity'] / 100\n",
    "df['popularity_grp5'] = df['popularity'].apply(lambda x: int(x/5))\n",
    "pop_df = pd.get_dummies(data=df[['popularity_grp5']], columns=['popularity_grp5'], prefix='pop_grp')\n",
    "df = df.drop(['popularity_grp5'], axis='columns')\n",
    "\n",
    "df['period'] = df['year'].apply(lambda x: str(int(round(x/5, 0))*5) + 's')\n",
    "period_df = pd.get_dummies(data=df[['period']], columns=['period'], prefix='period') \n",
    "df = df.drop(['period'], axis='columns')\n",
    "#df = pd.get_dummies(data=df, columns=['period'], prefix='period')\n",
    "print(df.info())\n",
    "print(period_df.info())"
   ]
  },
  {
   "cell_type": "markdown",
   "id": "54948f4e-caed-415c-9bfb-24fa0b8a0591",
   "metadata": {
    "heading_collapsed": "true",
    "tags": []
   },
   "source": [
    "### Drop Features"
   ]
  },
  {
   "cell_type": "code",
   "execution_count": null,
   "id": "40f1472a-c939-43f8-aa48-3eace1b87003",
   "metadata": {},
   "outputs": [],
   "source": [
    "## Dropping features not relevant to making recommendations\n",
    "# mode does affect the mood of the song i.e. Major key known as the happy key and the minor key is known as the sad key. However, this quality is much better represented in Valence\n",
    "# Key does affect the sound\n",
    "# Thanks to the loudness normalization, loudness doesn't matter much\n",
    "# Relevant information captured in tempo is much beter represented in danceability, energy\n",
    "drop_cols = ['duration_ms', 'mode', 'key', 'loudness', 'release_date','artist_id']\n",
    "df = df.drop(drop_cols, axis='columns')"
   ]
  },
  {
   "cell_type": "code",
   "execution_count": null,
   "id": "b0e80d69-da5e-464a-84e6-7db8db24bd2d",
   "metadata": {},
   "outputs": [],
   "source": [
    "df.columns"
   ]
  },
  {
   "cell_type": "markdown",
   "id": "768a4ceb-2b32-47c2-93ec-1795f4258eb8",
   "metadata": {
    "tags": []
   },
   "source": [
    "### Normalisation of Float features"
   ]
  },
  {
   "cell_type": "code",
   "execution_count": null,
   "id": "3a5897a9-0224-47da-9eb3-c1eb3c30807c",
   "metadata": {},
   "outputs": [],
   "source": [
    "scale_cols = ['acousticness', 'danceability', 'energy','instrumentalness', 'liveness', 'speechiness', 'valence', 'tempo']\n",
    "#scale_cols = ['acousticness', 'danceability', 'energy', 'liveness', 'speechiness', 'valence', 'tempo']\n",
    "new_cols = [col + '_scaled' for col in scale_cols ]\n",
    "\n",
    "scaler = MinMaxScaler()\n",
    "minmax_df = scaler.fit_transform(df[scale_cols])\n",
    "minmax_df = pd.DataFrame(scaler.fit_transform(minmax_df), columns = new_cols)\n",
    "minmax_df"
   ]
  },
  {
   "cell_type": "code",
   "execution_count": null,
   "id": "5239fdfd-dde7-46e1-bcf3-0411ad1e55e4",
   "metadata": {},
   "outputs": [],
   "source": [
    "test_df = minmax_df.copy() * 0.2\n",
    "test_df"
   ]
  },
  {
   "cell_type": "code",
   "execution_count": null,
   "id": "f82af83a-2def-4edf-ba71-dc5d7e05c5a2",
   "metadata": {
    "tags": []
   },
   "outputs": [],
   "source": [
    "df.columns"
   ]
  },
  {
   "cell_type": "code",
   "execution_count": null,
   "id": "338151e8-d4dd-4f57-807b-2b9305447bdb",
   "metadata": {},
   "outputs": [],
   "source": [
    "df.describe()"
   ]
  },
  {
   "cell_type": "code",
   "execution_count": null,
   "id": "b85f508e-897a-4fa4-a414-e9ed4d6c1c82",
   "metadata": {},
   "outputs": [],
   "source": [
    "df.head()"
   ]
  },
  {
   "cell_type": "markdown",
   "id": "79e7aa9d-e9aa-45dd-b7db-2cf8d7861a1c",
   "metadata": {
    "heading_collapsed": "true",
    "tags": []
   },
   "source": [
    "### Language"
   ]
  },
  {
   "cell_type": "code",
   "execution_count": null,
   "id": "e5e8215c-122d-4e41-ad18-87c3753d63c6",
   "metadata": {},
   "outputs": [],
   "source": [
    "# from googletrans import Translator\n",
    "# translator = Translator()\n",
    "# def detect_language(text):\n",
    "#     try:\n",
    "#         lang = translator.detect(text).lang\n",
    "#     except:\n",
    "#          lang = np.nan\n",
    "#     return lang\n",
    "\n",
    "\n",
    "# df['lang_name'] = df['name'].apply(lambda x: detect_language(x))\n",
    "# df['lang_artist'] = df['artists_clean'].apply(lambda x: detect_language(x))\n",
    "# df['lang'] = np.where(df['lang_name'] == np.nan, df['lang_artist'], df['lang_name'] )\n",
    "# display(df.info())\n",
    "# df.head()"
   ]
  },
  {
   "cell_type": "code",
   "execution_count": null,
   "id": "04ae3791-5b1b-41dc-a599-d98a3cc65233",
   "metadata": {},
   "outputs": [],
   "source": [
    "# from langdetect import detect\n",
    "# def detect_language(text):\n",
    "#     try:\n",
    "#         lang = detect(text) \n",
    "#     except:\n",
    "#         lang = np.nan\n",
    "#     return lang\n",
    "\n",
    "# df['lang_name'] = df['name'].apply(lambda x: detect_language(x))\n",
    "# df['lang_artist'] = df['artists_clean'].apply(lambda x: detect_language(x))\n",
    "# df['lang'] = np.where(df['lang_name'] == np.nan, df['lang_artist'], df['lang_name'] )\n",
    "# display(df.info())\n",
    "# df.head()"
   ]
  },
  {
   "cell_type": "code",
   "execution_count": null,
   "id": "fbf726d7-8b42-4238-94e0-7f89a009747a",
   "metadata": {},
   "outputs": [],
   "source": [
    "# df[df['lang_name'] != df['lang_artist']][['name', 'artists_clean','lang_name', 'lang_artist']]"
   ]
  },
  {
   "cell_type": "code",
   "execution_count": null,
   "id": "61328097-d8be-45b9-aa03-f5b718f7d334",
   "metadata": {},
   "outputs": [],
   "source": [
    "# df[df['language2'].isnull()][['name', 'artists_clean','language', 'language2']]"
   ]
  },
  {
   "cell_type": "code",
   "execution_count": null,
   "id": "420368b3-7580-4c8f-9459-f98ef7c30a0a",
   "metadata": {},
   "outputs": [],
   "source": [
    "# df['language2'].unique().tolist()"
   ]
  },
  {
   "cell_type": "markdown",
   "id": "1454bf58-2137-4546-8cfa-511176e5474d",
   "metadata": {
    "tags": []
   },
   "source": [
    "### TF-IDF Vectorization"
   ]
  },
  {
   "cell_type": "code",
   "execution_count": null,
   "id": "a0210e21-cf56-4590-9a83-dedea493b052",
   "metadata": {},
   "outputs": [],
   "source": [
    "from sklearn.feature_extraction.text import TfidfVectorizer\n",
    "\n",
    "vect =TfidfVectorizer(use_idf=True, token_pattern=r\"(?u)\\b\\w\\w+\\b|!|\\?|\\\"|\\'\")\n",
    "tfidf_matrix = vect.fit_transform(df['context'].values)\n",
    "tfidf_df = pd.DataFrame(tfidf_matrix.toarray())\n",
    "tfidf_df.columns = ['genre' + \"_\" + i for i in vect.get_feature_names()]\n",
    "#tfidf_df = tfidf_df.reset_index(drop = True, inplace=True)\n",
    "print(tfidf_df.shape)\n",
    "tfidf_df.to_csv('data/tfidf_vectors.csv', index=False)"
   ]
  },
  {
   "cell_type": "code",
   "execution_count": null,
   "id": "c21d4760-131e-44a8-aeda-21424c9d7a7b",
   "metadata": {
    "tags": []
   },
   "outputs": [],
   "source": [
    "tfidf_list = dict(zip(vect.get_feature_names(), list(vect.idf_)))\n",
    "tfidf_feature = vect.get_feature_names() # tfidf words/col-names\n",
    "tfidf_list"
   ]
  },
  {
   "cell_type": "markdown",
   "id": "ab9bbab2-51a6-48ea-95de-067d6bbd216d",
   "metadata": {
    "tags": []
   },
   "source": [
    "### Word2Vec"
   ]
  },
  {
   "cell_type": "code",
   "execution_count": null,
   "id": "762bb62d-e781-456a-8a23-b4bbc48e375c",
   "metadata": {},
   "outputs": [],
   "source": [
    "from sklearn.base import BaseEstimator, TransformerMixin\n",
    "\n",
    "class W2V_Vectorizer(TransformerMixin,BaseEstimator):\n",
    "    def __init__(self, model=\"en_core_web_lg\"):\n",
    "        self.model = model\n",
    "\n",
    "    def fit(self,X,y=None):\n",
    "        return self\n",
    "\n",
    "    def transform(self,X):\n",
    "        nlp = spacy.load(self.model)\n",
    "        return np.concatenate([nlp(' '.join(list(set(doc.split(\" \"))))).vector.reshape(1,-1) for doc in X])"
   ]
  },
  {
   "cell_type": "code",
   "execution_count": null,
   "id": "6b0d0ded-c755-4446-9257-8899854f4e43",
   "metadata": {},
   "outputs": [],
   "source": [
    "vect = W2V_Vectorizer()\n",
    "w2v_matrix = vect.fit_transform(df['context'].values)\n",
    "w2v_df = pd.DataFrame(w2v_matrix)\n",
    "#w2v_df.columns = ['genre' + \"_\" + i for i in vect.get_feature_names()]\n",
    "#tfidf_df = tfidf_df.reset_index(drop = True, inplace=True)\n",
    "print(w2v_df.shape)\n",
    "w2v_df.to_csv('data/w2v_vectors.csv', index=False)"
   ]
  },
  {
   "cell_type": "markdown",
   "id": "69a51546-c9e1-4dd5-a5fb-645af8ccd9b2",
   "metadata": {
    "tags": []
   },
   "source": [
    "### TF-IDF W2V"
   ]
  },
  {
   "cell_type": "code",
   "execution_count": null,
   "id": "fe3c6639-1f88-4d35-899f-d258dce7e3dd",
   "metadata": {},
   "outputs": [],
   "source": [
    "class TFIDF_W2V_Vectorizer(TransformerMixin,BaseEstimator):\n",
    "    def __init__(self, model=\"en_core_web_lg\"):\n",
    "        self.model = model\n",
    "\n",
    "    def fit(self,X,y=None):\n",
    "        return self\n",
    "\n",
    "    def transform(self,X):\n",
    "        nlp = spacy.load(self.model)\n",
    "         # Word vectors are of zero length (Used 300 dimensions)\n",
    "        doc_vec = np.zeros(300) \n",
    "        # num of words with a valid vector in the book description\n",
    "        total_score =0 \n",
    "        matrix = []\n",
    "        \n",
    "        for idx, doc in enumerate(X): # for each document in column\n",
    "            try:\n",
    "                for token in nlp(doc):\n",
    "                    vec = token.vector\n",
    "                    #word = re.sub(r'[^\\w\\s]', '', token.text)\n",
    "                    tfidf_score = tfidf_list[token.text] * (doc.count(token.text) / len(doc))\n",
    "                    doc_vec += (vec * tfidf_score)\n",
    "                    #total_score += tfidf_score\n",
    "            except Exception as e:\n",
    "                print(idx, \" \", doc) \n",
    "                print(e)\n",
    "            #if total_score != 0:    \n",
    "                #doc_vec_avg = doc_vec / total_score \n",
    "            matrix.append(doc_vec.reshape(1,-1)) \n",
    "        return matrix"
   ]
  },
  {
   "cell_type": "code",
   "execution_count": null,
   "id": "3dda251c-47be-470e-8a6c-a99fe70a4557",
   "metadata": {
    "scrolled": true,
    "tags": []
   },
   "outputs": [],
   "source": [
    "vect = TFIDF_W2V_Vectorizer()\n",
    "comb_matrix = vect.fit_transform(df['context'].values)\n",
    "comb_df = pd.DataFrame(np.concatenate(comb_matrix))\n",
    "print(comb_df.shape)\n",
    "comb_df.to_csv('data/tfidf_w2v_vectors.csv', index=False)"
   ]
  },
  {
   "cell_type": "markdown",
   "id": "3fe7a910-58c8-410b-8e34-b1699675d144",
   "metadata": {
    "tags": []
   },
   "source": [
    "### Joining Dataframes"
   ]
  },
  {
   "cell_type": "code",
   "execution_count": null,
   "id": "16871fc3-c49f-4670-bd33-dc0b2d54c46c",
   "metadata": {},
   "outputs": [],
   "source": [
    "display(minmax_df.head())"
   ]
  },
  {
   "cell_type": "code",
   "execution_count": null,
   "id": "81983582-08a9-42d1-8a77-14d94f66bc11",
   "metadata": {},
   "outputs": [],
   "source": [
    "#df1 = pd.concat([df, pop_df, period_df, minmax_df, tfidf_df], axis='columns')\n",
    "df1 = pd.concat([df, pop_df, period_df, minmax_df, tfidf_df], axis='columns')\n",
    "df1.info()\n",
    "print(df1.columns)"
   ]
  },
  {
   "cell_type": "code",
   "execution_count": null,
   "id": "c48024cb-2c66-4063-80cd-2284ab87381f",
   "metadata": {},
   "outputs": [],
   "source": [
    "df2 = pd.concat([df,pop_df, period_df, minmax_df, w2v_df], axis='columns')\n",
    "df2.info()"
   ]
  },
  {
   "cell_type": "code",
   "execution_count": null,
   "id": "1369e46c-011f-4ddb-90b0-a47085a84e1a",
   "metadata": {},
   "outputs": [],
   "source": [
    "df3 = pd.concat([df,pop_df, period_df, minmax_df, comb_df], axis='columns')\n",
    "df3.info()"
   ]
  },
  {
   "cell_type": "code",
   "execution_count": null,
   "id": "c025b3a6-b12e-4ca0-a8aa-dd8a37982172",
   "metadata": {},
   "outputs": [],
   "source": [
    "comb_df.shape"
   ]
  },
  {
   "cell_type": "markdown",
   "id": "888130ea-cbb5-4e88-88f9-738d4a3ec069",
   "metadata": {
    "tags": []
   },
   "source": [
    "## Similarity Scores"
   ]
  },
  {
   "cell_type": "markdown",
   "id": "724d3482-9e05-4dcb-a3b4-0ea248096fb7",
   "metadata": {},
   "source": [
    "Filter: Explicit, year dummy, pop score\n",
    "Genre: tfidf or w2v or tfidf-w2v \n",
    "audio: danceability, energy, speechiness, acousticness, liveness, valence, tempo?\n",
    "artist name -> dissimilarity\n",
    "\n",
    "+ song + pop + artist/name"
   ]
  },
  {
   "cell_type": "code",
   "execution_count": null,
   "id": "276f2250-7876-42c1-9940-92f1070d11af",
   "metadata": {},
   "outputs": [],
   "source": [
    "\n",
    "\n",
    "def recommend_songs(idx, db, drop_cols, text_vect, num_songs=20,):\n",
    "    ref_df = db.drop(columns=drop_cols, axis='columns')\n",
    "    #db['sim_score'] = cosine_similarity(ref_df.values,  ref_df.iloc[idx] .values.reshape(1, -1))[:,0]\n",
    "    db['sim_score_pop'] =cosine_similarity(pop_df.values, pop_df.iloc[idx] .values.reshape(1, -1))[:,0]\n",
    "    db['sim_score_year'] = cosine_similarity(period_df.values, period_df.iloc[idx] .values.reshape(1, -1))[:,0]\n",
    "    db['sim_score_audio'] = cosine_similarity(minmax_df.values, minmax_df.iloc[idx] .values.reshape(1, -1))[:,0]\n",
    "    \n",
    "    if text_vect == 'tfidf':\n",
    "        db['sim_score_genre'] = cosine_similarity(tfidf_df.values, tfidf_df.iloc[idx].values.reshape(1, -1))[:,0]\n",
    "    elif text_vect == 'w2v':\n",
    "        db['sim_score_genre'] = cosine_similarity(w2v_df.values, w2v_df.iloc[idx].values.reshape(1, -1))[:,0]    \n",
    "    elif text_vect == 'tfidf-w2v':\n",
    "        db['sim_score_genre'] = cosine_similarity(comb_df.values, comb_df.iloc[idx].values.reshape(1, -1))[:,0]\n",
    "        \n",
    "    if db.iloc[idx]['artist_genre'] ==np.nan:\n",
    "        db['sim_score_audio'] = (0.7 * db['sim_score_audio']) \n",
    "        db['sim_score_year'] =  (0.15* db['sim_score_year']) \n",
    "        db['sim_score_pop'] = (0.15 * db['sim_score_pop'])\n",
    "    else:    \n",
    "        db['sim_score_audio'] = (0.5 * db['sim_score_audio']) \n",
    "        db['sim_score_genre'] = (0.4 * db['sim_score_genre']) \n",
    "        db['sim_score_year'] =  (0.05* db['sim_score_year']) \n",
    "        db['sim_score_pop'] = (0.05 * db['sim_score_pop'])\n",
    "        \n",
    "        \n",
    "    db['sim_score'] = db['sim_score_audio'] + db['sim_score_genre'] + db['sim_score_year'] + db['sim_score_pop']      \n",
    "    #db.sort_values('sim_score',ascending = False).head(num_songs)\n",
    "    return db.sort_values('sim_score',ascending = False).head(num_songs)"
   ]
  },
  {
   "cell_type": "code",
   "execution_count": null,
   "id": "a2b36a66-733c-4c50-b4ff-63b3bf92ab01",
   "metadata": {},
   "outputs": [],
   "source": [
    "import random\n",
    "#lucky_num = random.randint(0, df1.shape[0])\n",
    "lucky_num = 57699\n",
    "text_cols = ['id', 'name','artist_name', 'artist_genre', 'context', 'year', 'popularity','genre']\n",
    "drop_cols = text_cols + scale_cols\n",
    "display_cols = ['id', 'name', 'artist_name', 'artist_genre', 'sim_score', 'sim_score_genre', 'sim_score_audio','sim_score_year','sim_score_pop','year', 'popularity', 'tempo', 'acousticness', 'instrumentalness', 'danceability', 'energy','liveness',  'valence', 'context']"
   ]
  },
  {
   "cell_type": "code",
   "execution_count": null,
   "id": "74bcdf2d-a01e-48a6-ad3f-673ed529fc05",
   "metadata": {
    "tags": []
   },
   "outputs": [],
   "source": [
    "# #test_df = df[['name', 'id']]\n",
    "# #Reverse mapping of the index\n",
    "# name = \"Take Good Care of Me\"\n",
    "# indices = pd.Series(df.index, index = df['artist_name'] + ' | ' + df['name'] ).drop_duplicates()\n",
    "# #idx = indices[name]\n",
    "# len(df[df['name'] == name])"
   ]
  },
  {
   "cell_type": "code",
   "execution_count": null,
   "id": "c8327bc3-3575-4193-9007-0f88eb4b8f58",
   "metadata": {
    "tags": []
   },
   "outputs": [],
   "source": [
    "print(df.loc[lucky_num, 'name'])\n",
    "playlist = recommend_songs(lucky_num, df1, drop_cols, text_vect='tfidf')\n",
    "display(playlist[display_cols])"
   ]
  },
  {
   "cell_type": "code",
   "execution_count": null,
   "id": "94cf1487-89ad-4487-90fa-68cb4aa81680",
   "metadata": {},
   "outputs": [],
   "source": [
    "playlist = recommend_songs(lucky_num, df2, drop_cols, text_vect='w2v')\n",
    "print(lucky_num)\n",
    "display(playlist[display_cols])"
   ]
  },
  {
   "cell_type": "code",
   "execution_count": null,
   "id": "cce4b607-5497-4101-8641-36947cabef9d",
   "metadata": {},
   "outputs": [],
   "source": [
    "playlist = recommend_songs(lucky_num, df3, drop_cols, text_vect='tfidf-w2v')\n",
    "print(lucky_num)\n",
    "display(df3.loc[lucky_num])\n",
    "display(playlist[display_cols])"
   ]
  },
  {
   "cell_type": "code",
   "execution_count": null,
   "id": "ca21794f-b349-4501-9766-9d455646ea00",
   "metadata": {},
   "outputs": [],
   "source": [
    "\n",
    "#lucky_num = 11584\n",
    "text_cols = ['id', 'name', 'artists_clean', 'genre', 'genre text', 'year', 'pop_score', 'popularity']\n",
    "drop_cols = text_cols + scale_cols\n",
    "song = df1.iloc[lucky_num]\n",
    "song_vectors = df1.drop(drop_cols, axis='columns').iloc[lucky_num]\n",
    "\n",
    "print('Selected Song: {}'.format(song['name']))\n",
    "print('Selected Genre: {}'.format(song['genre']))\n",
    "print('Selected ID: {}'.format(song['id']))\n",
    "display(df1.loc[df1['id'] == song['id'], ['id', 'name', 'artists_clean', 'genre', 'tempo', 'year', 'pop_score', 'acousticness', 'danceability', 'energy', 'instrumentalness', 'liveness',  'valence']])\n",
    "#ref_df = df1.drop(columns=text_cols, axis='columns')\n",
    "#display(cosine_similarity(ref_df.values, song_vectors.values.reshape(1, -1)))\n",
    "#db['sim_score'] = cosine_similarity(ref_df.values, song.values.reshape(1, -1))[:,0]\n",
    "#return db.sort_values('sim',ascending = False).head(num_songs)\n",
    "\n",
    "playlist = recommend_songs(song_vectors, df1, drop_cols, 40)\n",
    "display(playlist[['id', 'name', 'artists_clean', 'genre text', 'sim_score', 'year', 'pop_score', 'tempo', 'acousticness', 'danceability', 'energy', 'instrumentalness', 'liveness',  'valence']])"
   ]
  },
  {
   "cell_type": "code",
   "execution_count": null,
   "id": "15cd2188-ab0d-41ea-acf3-57ff06e12f63",
   "metadata": {},
   "outputs": [],
   "source": [
    "\n",
    "#lucky_num = 11584\n",
    "text_cols = ['id', 'name', 'artists_clean', 'genre', 'genre text', 'year', 'pop_score', 'popularity']\n",
    "drop_cols = text_cols + scale_cols\n",
    "song = df1.iloc[lucky_num]\n",
    "song_vectors = df1.drop(drop_cols, axis='columns').iloc[lucky_num]\n",
    "\n",
    "print('Selected Song: {}'.format(song['name']))\n",
    "print('Selected Genre: {}'.format(song['genre']))\n",
    "print('Selected ID: {}'.format(song['id']))\n",
    "display(df1.loc[df1['id'] == song['id'], ['id', 'name', 'artists_clean', 'genre', 'tempo', 'year', 'pop_score', 'acousticness', 'danceability', 'energy', 'instrumentalness', 'liveness',  'valence']])\n",
    "#ref_df = df1.drop(columns=text_cols, axis='columns')\n",
    "#display(cosine_similarity(ref_df.values, song_vectors.values.reshape(1, -1)))\n",
    "#db['sim_score'] = cosine_similarity(ref_df.values, song.values.reshape(1, -1))[:,0]\n",
    "#return db.sort_values('sim',ascending = False).head(num_songs)\n",
    "\n",
    "playlist = recommend_songs(song_vectors, df1, drop_cols, 40)\n",
    "display(playlist[['id', 'name', 'artists_clean', 'genre text', 'sim_score', 'year', 'pop_score', 'tempo', 'acousticness', 'danceability', 'energy', 'instrumentalness', 'liveness',  'valence']])"
   ]
  },
  {
   "cell_type": "code",
   "execution_count": null,
   "id": "585ffa70-3532-430f-a5d3-1eb0f2b21e64",
   "metadata": {
    "jupyter": {
     "source_hidden": true
    },
    "tags": []
   },
   "outputs": [],
   "source": [
    "from polyglot.detect import Detector\n",
    "text = 'Mujhe Woh Dekhkar Jab Muskurayenge'\n",
    "\n",
    "detector = Detector(text)\n",
    "print(dir(detector))\n",
    "print(detector.language)"
   ]
  },
  {
   "cell_type": "code",
   "execution_count": null,
   "id": "f7db2930-ff60-409a-b0a7-3899f7ccae93",
   "metadata": {},
   "outputs": [],
   "source": [
    "How do I discourage from same artist appearing one after the another\n",
    "How do I switch focus on different features?\n",
    "Use dissimiliarity to discourage having the same artists over and over again\n",
    "Split into multiple recommendation systems and then consolidate into one to allow for weighting -> Genre + audio + song + pop + artist/name\n",
    "Language as a feature\n",
    "inestigate moods with audio features -> what audio features are involved?"
   ]
  },
  {
   "cell_type": "code",
   "execution_count": null,
   "id": "d3b827b0-4588-4b15-bc6f-165305adab7d",
   "metadata": {
    "tags": []
   },
   "outputs": [],
   "source": [
    "df1.drop(text_cols + scale_cols, axis='columns').columns.tolist()"
   ]
  },
  {
   "cell_type": "code",
   "execution_count": null,
   "id": "4e9ffbd2-c9f3-42f7-9758-660a7a2e40a4",
   "metadata": {},
   "outputs": [],
   "source": [
    "lucky_num"
   ]
  },
  {
   "cell_type": "code",
   "execution_count": null,
   "id": "df18f84c-9f64-4aa9-90fd-848518ad974f",
   "metadata": {},
   "outputs": [],
   "source": [
    "from langdetect import detect\n",
    "\n",
    "text = 'Mujhe Woh Dekhkar Jab Muskurayenge'\n",
    "\n",
    "text1 = 'பைதான் கோடர்கள்'\n",
    "\n",
    "text2 = 'Python is a popular programming language'\n",
    "\n",
    "\n",
    "\n",
    "\n",
    "from langdetect import detect\n",
    "\n",
    "lang = detect(text)\n",
    "print(dir(detect))\n",
    "print(lang)\n",
    "print(dir(lang))"
   ]
  },
  {
   "cell_type": "code",
   "execution_count": null,
   "id": "c37b94b9-6544-4141-bb85-037881d73690",
   "metadata": {},
   "outputs": [],
   "source": [
    "text = 'classical performance,orchestra,classical,early modern classical,post-romantic era,classical,classical era,! ,early romantic era'\n",
    "lst = text.split(\",\")\n",
    "genrestring = \" \".join([word for word in lst if word.strip() not in string.punctuation])\n",
    "genrestring"
   ]
  },
  {
   "cell_type": "code",
   "execution_count": null,
   "id": "ce453d2c-29f3-4b85-a767-de514929410f",
   "metadata": {},
   "outputs": [],
   "source": [
    "string.punctuation"
   ]
  },
  {
   "cell_type": "code",
   "execution_count": null,
   "id": "fc67575e-a1e3-47b4-b78b-e80acf9d52cb",
   "metadata": {},
   "outputs": [],
   "source": []
  },
  {
   "cell_type": "code",
   "execution_count": null,
   "id": "476b0044-39a4-4ec5-8c2c-df7f1f2a4055",
   "metadata": {},
   "outputs": [],
   "source": []
  },
  {
   "cell_type": "code",
   "execution_count": null,
   "id": "a40c2a0a-2813-42ba-b637-2abb59ea6e89",
   "metadata": {},
   "outputs": [],
   "source": []
  },
  {
   "cell_type": "code",
   "execution_count": null,
   "id": "ac5b70c3-ce36-4741-aab8-eed3c85123fa",
   "metadata": {},
   "outputs": [],
   "source": [
    "word = 'zh-cn'\n",
    "word[-2:]"
   ]
  },
  {
   "cell_type": "code",
   "execution_count": null,
   "id": "e905e931-3b25-4eec-a1dc-9ef32ae8fc0c",
   "metadata": {},
   "outputs": [],
   "source": [
    "!pip install googletrans"
   ]
  },
  {
   "cell_type": "code",
   "execution_count": null,
   "id": "74220e9a-5cae-4164-99af-28208e7a9dde",
   "metadata": {},
   "outputs": [],
   "source": [
    "!pip uninstall apache-airflow"
   ]
  },
  {
   "cell_type": "code",
   "execution_count": null,
   "id": "708e9f02-e848-4c54-a579-4a7764382890",
   "metadata": {},
   "outputs": [],
   "source": []
  }
 ],
 "metadata": {
  "hide_input": false,
  "kernelspec": {
   "display_name": "Python 3",
   "language": "python",
   "name": "python3"
  },
  "language_info": {
   "codemirror_mode": {
    "name": "ipython",
    "version": 3
   },
   "file_extension": ".py",
   "mimetype": "text/x-python",
   "name": "python",
   "nbconvert_exporter": "python",
   "pygments_lexer": "ipython3",
   "version": "3.8.8"
  },
  "toc": {
   "base_numbering": 1,
   "nav_menu": {},
   "number_sections": true,
   "sideBar": true,
   "skip_h1_title": false,
   "title_cell": "Table of Contents",
   "title_sidebar": "Contents",
   "toc_cell": true,
   "toc_position": {},
   "toc_section_display": true,
   "toc_window_display": true
  },
  "varInspector": {
   "cols": {
    "lenName": 16,
    "lenType": 16,
    "lenVar": 40
   },
   "kernels_config": {
    "python": {
     "delete_cmd_postfix": "",
     "delete_cmd_prefix": "del ",
     "library": "var_list.py",
     "varRefreshCmd": "print(var_dic_list())"
    },
    "r": {
     "delete_cmd_postfix": ") ",
     "delete_cmd_prefix": "rm(",
     "library": "var_list.r",
     "varRefreshCmd": "cat(var_dic_list()) "
    }
   },
   "types_to_exclude": [
    "module",
    "function",
    "builtin_function_or_method",
    "instance",
    "_Feature"
   ],
   "window_display": true
  }
 },
 "nbformat": 4,
 "nbformat_minor": 5
}
